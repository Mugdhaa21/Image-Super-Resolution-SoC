{
 "cells": [
  {
   "cell_type": "code",
   "execution_count": 92,
   "id": "444eb98f-1ed3-499f-af1c-62f5666acd69",
   "metadata": {},
   "outputs": [],
   "source": [
    "import pandas as pd\n",
    "import numpy as np\n",
    "import matplotlib.pyplot as plt"
   ]
  },
  {
   "cell_type": "code",
   "execution_count": 93,
   "id": "0ce96ce5-500b-47fe-8d68-748c8b913dc5",
   "metadata": {},
   "outputs": [],
   "source": [
    "data = pd.read_csv(\"framingham.csv\")"
   ]
  },
  {
   "cell_type": "code",
   "execution_count": 94,
   "id": "d2102581-6585-4a81-a420-2bd13b27000a",
   "metadata": {},
   "outputs": [
    {
     "name": "stdout",
     "output_type": "stream",
     "text": [
      "(4238, 16)\n"
     ]
    }
   ],
   "source": [
    "print(data.shape)"
   ]
  },
  {
   "cell_type": "code",
   "execution_count": 95,
   "id": "ed151cc2-0dd1-4b37-b8fb-07a080cebd54",
   "metadata": {},
   "outputs": [
    {
     "name": "stdout",
     "output_type": "stream",
     "text": [
      "Index(['male', 'age', 'education', 'currentSmoker', 'cigsPerDay', 'BPMeds',\n",
      "       'prevalentStroke', 'prevalentHyp', 'diabetes', 'totChol', 'sysBP',\n",
      "       'diaBP', 'BMI', 'heartRate', 'glucose', 'TenYearCHD'],\n",
      "      dtype='object')\n"
     ]
    }
   ],
   "source": [
    "print(data.columns)"
   ]
  },
  {
   "cell_type": "code",
   "execution_count": 96,
   "id": "3b0285a4-22b1-48fe-bcf3-82f8aa97052a",
   "metadata": {},
   "outputs": [
    {
     "name": "stdout",
     "output_type": "stream",
     "text": [
      "0       0\n",
      "1       0\n",
      "2       0\n",
      "3       1\n",
      "4       0\n",
      "       ..\n",
      "4233    1\n",
      "4234    0\n",
      "4235    0\n",
      "4236    0\n",
      "4237    0\n",
      "Name: TenYearCHD, Length: 4238, dtype: int64\n"
     ]
    }
   ],
   "source": [
    "print(data[\"TenYearCHD\"])"
   ]
  },
  {
   "cell_type": "code",
   "execution_count": 97,
   "id": "c41ef12a-5902-413d-8f9e-914e13bd0a77",
   "metadata": {},
   "outputs": [
    {
     "name": "stdout",
     "output_type": "stream",
     "text": [
      "male               0.088428\n",
      "age                0.225256\n",
      "education         -0.054059\n",
      "currentSmoker      0.019456\n",
      "cigsPerDay         0.057884\n",
      "BPMeds             0.087489\n",
      "prevalentStroke    0.061810\n",
      "prevalentHyp       0.177603\n",
      "diabetes           0.097317\n",
      "totChol            0.082184\n",
      "sysBP              0.216429\n",
      "diaBP              0.145299\n",
      "BMI                0.075192\n",
      "heartRate          0.022913\n",
      "glucose            0.125544\n",
      "TenYearCHD         1.000000\n",
      "Name: TenYearCHD, dtype: float64\n"
     ]
    }
   ],
   "source": [
    "c = data.corr()[\"TenYearCHD\"]\n",
    "print(c)"
   ]
  },
  {
   "cell_type": "code",
   "execution_count": 98,
   "id": "4095150e-f5d0-45bd-aac8-315681faff22",
   "metadata": {},
   "outputs": [
    {
     "name": "stdout",
     "output_type": "stream",
     "text": [
      "      male  age  currentSmoker  cigsPerDay  BPMeds  prevalentStroke  \\\n",
      "0        1   39              0         0.0     0.0                0   \n",
      "1        0   46              0         0.0     0.0                0   \n",
      "2        1   48              1        20.0     0.0                0   \n",
      "3        0   61              1        30.0     0.0                0   \n",
      "4        0   46              1        23.0     0.0                0   \n",
      "...    ...  ...            ...         ...     ...              ...   \n",
      "4231     1   58              0         0.0     0.0                0   \n",
      "4232     1   68              0         0.0     0.0                0   \n",
      "4233     1   50              1         1.0     0.0                0   \n",
      "4234     1   51              1        43.0     0.0                0   \n",
      "4237     0   52              0         0.0     0.0                0   \n",
      "\n",
      "      prevalentHyp  diabetes  totChol  sysBP  diaBP    BMI  heartRate  \\\n",
      "0                0         0    195.0  106.0   70.0  26.97       80.0   \n",
      "1                0         0    250.0  121.0   81.0  28.73       95.0   \n",
      "2                0         0    245.0  127.5   80.0  25.34       75.0   \n",
      "3                1         0    225.0  150.0   95.0  28.58       65.0   \n",
      "4                0         0    285.0  130.0   84.0  23.10       85.0   \n",
      "...            ...       ...      ...    ...    ...    ...        ...   \n",
      "4231             1         0    187.0  141.0   81.0  24.96       80.0   \n",
      "4232             1         0    176.0  168.0   97.0  23.14       60.0   \n",
      "4233             1         0    313.0  179.0   92.0  25.97       66.0   \n",
      "4234             0         0    207.0  126.5   80.0  19.71       65.0   \n",
      "4237             0         0    269.0  133.5   83.0  21.47       80.0   \n",
      "\n",
      "      glucose  TenYearCHD  \n",
      "0        77.0           0  \n",
      "1        76.0           0  \n",
      "2        70.0           0  \n",
      "3       103.0           1  \n",
      "4        85.0           0  \n",
      "...       ...         ...  \n",
      "4231     81.0           0  \n",
      "4232     79.0           1  \n",
      "4233     86.0           1  \n",
      "4234     68.0           0  \n",
      "4237    107.0           0  \n",
      "\n",
      "[3656 rows x 15 columns]\n"
     ]
    }
   ],
   "source": [
    "data = data.dropna()\n",
    "\n",
    "# Drop the column named 'education' if it exists\n",
    "if \"education\" in data.columns:\n",
    "    data = data.drop(columns=[\"education\"])\n",
    "print(data)"
   ]
  },
  {
   "cell_type": "code",
   "execution_count": 99,
   "id": "9bf102a2-5f9e-407f-bfe1-a9ebad8049f7",
   "metadata": {},
   "outputs": [
    {
     "name": "stdout",
     "output_type": "stream",
     "text": [
      "0       0\n",
      "1       0\n",
      "2       0\n",
      "3       1\n",
      "4       0\n",
      "       ..\n",
      "4231    0\n",
      "4232    1\n",
      "4233    1\n",
      "4234    0\n",
      "4237    0\n",
      "Name: TenYearCHD, Length: 3656, dtype: int64\n"
     ]
    }
   ],
   "source": [
    "x = data.iloc[:,:-1]\n",
    "y = data.iloc[:,-1]\n",
    "print(y)"
   ]
  },
  {
   "cell_type": "code",
   "execution_count": 100,
   "id": "64a42a17-b798-4b2b-b574-d640e52e9d7e",
   "metadata": {},
   "outputs": [],
   "source": [
    "# from sklearn.model_selection import train_test_split\n",
    "# xtrain,ytrain, xtest, ytest = train_test_split(x,y,test_size=0.25, random_state=42)\n",
    "i = x.shape[0]//5\n",
    "xtest = x.iloc[:847]\n",
    "xtrain = x.iloc[847:]\n",
    "ytest = y.iloc[:847]\n",
    "ytrain = y.iloc[847:]"
   ]
  },
  {
   "cell_type": "code",
   "execution_count": 101,
   "id": "460eb417-1dcb-4766-bc0b-09aa28d5cb77",
   "metadata": {},
   "outputs": [],
   "source": [
    "def sigmoid(z):\n",
    "    return 1/(1+np.exp(-z))\n",
    "\n",
    "\n",
    "class LogisticRegression:\n",
    "\n",
    "    def __init__(self, lr=0.001, n_iters=1000):\n",
    "        self.lr = lr\n",
    "        self.n_iters = n_iters\n",
    "        self.w = None\n",
    "        self.b = None\n",
    "\n",
    "    def fit(self, x, y):\n",
    "        n, d = x.shape\n",
    "        self.w = np.zeros(d)\n",
    "        self.b = 0\n",
    "        for _ in range(self.n_iters):\n",
    "            z = np.dot(x, self.w) + self.b\n",
    "            ypred = sigmoid(z)\n",
    "            dw = (1/n) * np.dot(x.T, (ypred - y))\n",
    "            db = (1/n) * np.sum(ypred - y)\n",
    "            self.w -= self.lr * dw\n",
    "            self.b -= self.lr * db\n",
    "\n",
    "    def predict(self, x):\n",
    "        z = np.dot(x, self.w) + self.b\n",
    "        pred = sigmoid(z)\n",
    "        ypred = [0 if y<=0.5 else 1 for y in pred]\n",
    "        return ypred"
   ]
  },
  {
   "cell_type": "code",
   "execution_count": 115,
   "id": "b0e87a17-b094-49bf-80db-3577b1e9c950",
   "metadata": {},
   "outputs": [
    {
     "name": "stdout",
     "output_type": "stream",
     "text": [
      "Accuracy: 82.88075560802834%\n",
      "False Negative Rate: nan%\n",
      "False Positive Rate: nan%\n"
     ]
    }
   ],
   "source": [
    "clf = LogisticRegression()\n",
    "clf.fit(xtrain, ytrain)\n",
    "ypred = clf.predict(xtest)\n",
    "correct = np.sum(ytest.values == ypred)\n",
    "accuracy = 100 * (correct / ytest.shape[0])\n",
    "\n",
    "\n",
    "print(f\"Accuracy: {accuracy}%\")\n",
    "print(f\"False Negative Rate: {false_negative_rate}%\")\n",
    "print(f\"False Positive Rate: {false_positive_rate}%\")\n"
   ]
  },
  {
   "cell_type": "code",
   "execution_count": null,
   "id": "15549a73-4118-4f5b-891c-e5ad0e33bcca",
   "metadata": {},
   "outputs": [],
   "source": []
  }
 ],
 "metadata": {
  "kernelspec": {
   "display_name": "Python 3 (ipykernel)",
   "language": "python",
   "name": "python3"
  },
  "language_info": {
   "codemirror_mode": {
    "name": "ipython",
    "version": 3
   },
   "file_extension": ".py",
   "mimetype": "text/x-python",
   "name": "python",
   "nbconvert_exporter": "python",
   "pygments_lexer": "ipython3",
   "version": "3.12.1"
  }
 },
 "nbformat": 4,
 "nbformat_minor": 5
}
